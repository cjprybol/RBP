{
 "cells": [
  {
   "cell_type": "code",
   "execution_count": null,
   "metadata": {
    "collapsed": true
   },
   "outputs": [],
   "source": [
    "import os\n",
    "import pandas as pd"
   ]
  },
  {
   "cell_type": "code",
   "execution_count": null,
   "metadata": {
    "collapsed": false
   },
   "outputs": [],
   "source": [
    "data_dir = \"/\".join(os.getcwd().split(\"/\")[:-1] + ['Mpileup'])\n",
    "\n",
    "files = [f for f in os.listdir(data_dir) if f.endswith('headerless.vcf')]"
   ]
  },
  {
   "cell_type": "markdown",
   "metadata": {},
   "source": [
    "# Instantiate base dataframe to merge into"
   ]
  },
  {
   "cell_type": "code",
   "execution_count": null,
   "metadata": {
    "collapsed": false
   },
   "outputs": [],
   "source": [
    "f = files[0]\n",
    "f_path = data_dir + \"/\" + f\n",
    "f_name = f.split(\".\")[0]\n",
    "header = [\"CHROM\", \"POS\", \"ID\", \"REF\", \"ALT\", \"QUAL\", \"FILTER\", \"INFO\", \"FORMAT\", f_name]\n",
    "\n",
    "temp = pd.read_csv(f_path, sep=\"\\t\", header=None, names=header)\n",
    "to_keep = [\"CHROM\", \"POS\", f_name]\n",
    "temp = temp[to_keep]"
   ]
  },
  {
   "cell_type": "markdown",
   "metadata": {},
   "source": [
    "# Only want reference vs nonreference, and depth\n",
    "\n",
    "format is GT:DP:RO:QR:AO:QA:GL\n",
    "only care about:\n",
    "- DP ~ depth\n",
    "- RO ~ reference counts\n",
    "- AO ~ alternate counts"
   ]
  },
  {
   "cell_type": "code",
   "execution_count": null,
   "metadata": {
    "collapsed": false
   },
   "outputs": [],
   "source": [
    "def ExtractValues(value_string):\n",
    "    return sum(map(int,value_string.split(\",\")))\n",
    "    \n",
    "temp[f_name+\"_depth\"] = temp[f_name].apply(lambda row: ExtractValues(row.split(\":\")[1]))\n",
    "temp[f_name+\"_ref\"] = temp[f_name].apply(lambda row: ExtractValues(row.split(\":\")[2]))\n",
    "temp[f_name+\"_alt\"] = temp[f_name].apply(lambda row: ExtractValues(row.split(\":\")[4]))\n",
    "temp[f_name+\"_AF\"] = temp[f_name+\"_ref\"] / temp[f_name+\"_depth\"]\n",
    "temp = temp.drop(f_name, axis=1)\n",
    "data = temp"
   ]
  },
  {
   "cell_type": "markdown",
   "metadata": {},
   "source": [
    "# Merge all other files into one dataframe"
   ]
  },
  {
   "cell_type": "code",
   "execution_count": null,
   "metadata": {
    "collapsed": false
   },
   "outputs": [],
   "source": [
    "for f in files[1:]:\n",
    "    f_path = data_dir + \"/\" + f\n",
    "    f_name = f.split(\".\")[0]\n",
    "    header = [\"CHROM\", \"POS\", \"ID\", \"REF\", \"ALT\", \"QUAL\", \"FILTER\", \"INFO\", \"FORMAT\", f_name]\n",
    "\n",
    "    temp = pd.read_csv(f_path, sep=\"\\t\", header=None, names=header)\n",
    "    to_keep = [\"CHROM\", \"POS\", f_name]\n",
    "    temp = temp[to_keep]\n",
    "    \n",
    "    temp[f_name+\"_depth\"] = temp[f_name].apply(lambda row: ExtractValues(row.split(\":\")[1]))\n",
    "    temp[f_name+\"_ref\"] = temp[f_name].apply(lambda row: ExtractValues(row.split(\":\")[2]))\n",
    "    temp[f_name+\"_alt\"] = temp[f_name].apply(lambda row: ExtractValues(row.split(\":\")[4]))\n",
    "    temp[f_name+\"_AF\"] = temp[f_name+\"_ref\"] / temp[f_name+\"_depth\"]\n",
    "    temp = temp.drop(f_name, axis=1)\n",
    "    data = pd.merge(data, temp, on=[\"CHROM\", \"POS\"], how='outer')"
   ]
  },
  {
   "cell_type": "code",
   "execution_count": null,
   "metadata": {
    "collapsed": false
   },
   "outputs": [],
   "source": [
    "save_path = data_dir + \"/\" \"editing_levels.tsv\"\n",
    "# save_path = \"/Users/Cameron/editing_levels.tsv\"\n",
    "data.to_csv(path_or_buf=save_path, sep=\"\\t\", index=False)"
   ]
  }
 ],
 "metadata": {
  "kernelspec": {
   "display_name": "Python 3",
   "language": "python",
   "name": "python3"
  },
  "language_info": {
   "codemirror_mode": {
    "name": "ipython",
    "version": 3
   },
   "file_extension": ".py",
   "mimetype": "text/x-python",
   "name": "python",
   "nbconvert_exporter": "python",
   "pygments_lexer": "ipython3",
   "version": "3.5.1"
  }
 },
 "nbformat": 4,
 "nbformat_minor": 0
}
